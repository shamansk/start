{
 "cells": [
  {
   "cell_type": "code",
   "execution_count": 21,
   "metadata": {},
   "outputs": [],
   "source": [
    "import pandas as pd\n",
    "import numpy as np\n",
    "from sqlalchemy import create_engine"
   ]
  },
  {
   "cell_type": "code",
   "execution_count": 22,
   "metadata": {},
   "outputs": [],
   "source": [
    "SERVER = 'DESKTOP-LQOJV4Q\\SQLEXPRESS'\n",
    "DATABASE = 'master'\n",
    "DRIVER = 'ODBC Driver 17 for SQL Server'\n",
    "DATABASE_CONNECTION = f'mssql://@{SERVER}/{DATABASE}?driver={DRIVER}'\n",
    "engine = create_engine(DATABASE_CONNECTION)"
   ]
  },
  {
   "cell_type": "code",
   "execution_count": 23,
   "metadata": {},
   "outputs": [],
   "source": [
    "#conn = engine.connect()\n",
    "#df = pd.read_sql_query(\"select * from [dbo].[sample_data]\", conn)"
   ]
  },
  {
   "cell_type": "code",
   "execution_count": 29,
   "metadata": {},
   "outputs": [],
   "source": [
    "#df = pd.read_sql_table(\"sample_data\", engine)\n",
    "df = pd.read_sql_table(\"sample_data\", engine, columns = ['all_date', \n",
    "                                                        'product_id', \n",
    "                                                        'product_name', \n",
    "                                                        'customer_id', \n",
    "                                                        'customer',\n",
    "                                                        'supplier_id',\n",
    "                                                        'supplier',\n",
    "                                                        'category',\n",
    "                                                        'sale_quantity',\n",
    "                                                        'revenue',\n",
    "                                                        'profit',\n",
    "                                                        'stock_quantity',\n",
    "                                                        'cost_of_stock'])"
   ]
  },
  {
   "cell_type": "code",
   "execution_count": null,
   "metadata": {},
   "outputs": [],
   "source": []
  }
 ],
 "metadata": {
  "kernelspec": {
   "display_name": "Python 3",
   "language": "python",
   "name": "python3"
  },
  "language_info": {
   "codemirror_mode": {
    "name": "ipython",
    "version": 3
   },
   "file_extension": ".py",
   "mimetype": "text/x-python",
   "name": "python",
   "nbconvert_exporter": "python",
   "pygments_lexer": "ipython3",
   "version": "3.7.4"
  }
 },
 "nbformat": 4,
 "nbformat_minor": 2
}
